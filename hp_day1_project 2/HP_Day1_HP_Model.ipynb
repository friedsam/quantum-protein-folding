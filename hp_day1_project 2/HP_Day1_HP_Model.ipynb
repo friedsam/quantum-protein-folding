{
 "cells": [
  {
   "cell_type": "markdown",
   "id": "61950aa0",
   "metadata": {},
   "source": [
    "# Day 1 — HP Model (6-Residue Lattice Toy)\n",
    "\n",
    "**Objective**  \n",
    "- Enumerate **all 284** valid self-avoiding folds for a 6-residue chain on a 2D lattice  \n",
    "- Score energies using **H–H contacts** (non-consecutive neighbors only)  \n",
    "- Visualize best folds and the **energy distribution**\n",
    "\n",
    "> You can change the sequence in the **Setup** cell below."
   ]
  },
  {
   "cell_type": "markdown",
   "id": "1e11d1c0",
   "metadata": {},
   "source": [
    "## Setup"
   ]
  },
  {
   "cell_type": "code",
   "execution_count": null,
   "id": "f06d85eb",
   "metadata": {},
   "outputs": [],
   "source": [
    "# Imports & basic config\n",
    "import os\n",
    "import math\n",
    "from collections import Counter\n",
    "import numpy as np\n",
    "import matplotlib.pyplot as plt\n",
    "\n",
    "# Do not set colors or styles here (keeps defaults as requested)\n",
    "plt.rcParams.update({\"figure.dpi\": 120})\n",
    "\n",
    "# Output directory for figures\n",
    "FIG_DIR = \"figures\"\n",
    "os.makedirs(FIG_DIR, exist_ok=True)\n",
    "\n",
    "# Default 6-residue sequence (editable)\n",
    "SEQ = ['H','P','H','H','P','H']\n",
    "\n",
    "# Lattice moves (R, L, U, D)\n",
    "MOVES = [(1,0), (-1,0), (0,1), (0,-1)]\n",
    "\n",
    "print(\"Sequence:\", ''.join(SEQ))"
   ]
  },
  {
   "cell_type": "markdown",
   "id": "38d29ae3",
   "metadata": {},
   "source": [
    "## HP Model Essentials (Quick Notes)\n",
    "- Grid: 2D square lattice; residues occupy lattice points.\n",
    "- Valid fold: a **self-avoiding walk (SAW)** — no coordinate is visited more than once.\n",
    "- Energy rule: count **non-consecutive** `H–H` contacts at **Manhattan distance 1**.  \n",
    "  Each such contact contributes **-1** to the energy (more negative = better).\n",
    "- We enumerate **all four** possible first steps to ensure the **full set of 284** folds."
   ]
  },
  {
   "cell_type": "markdown",
   "id": "b37d8c6c",
   "metadata": {},
   "source": [
    "## Enumeration of Self-Avoiding Walks"
   ]
  },
  {
   "cell_type": "code",
   "execution_count": null,
   "id": "020384fd",
   "metadata": {},
   "outputs": [],
   "source": [
    "from typing import List, Tuple, Set\n",
    "\n",
    "Coord = Tuple[int, int]\n",
    "\n",
    "def _dfs(path: List[Coord], visited: Set[Coord], n_steps: int) -> List[List[Coord]]:\n",
    "    if len(path) == n_steps + 1:\n",
    "        return [path]\n",
    "    x, y = path[-1]\n",
    "    results = []\n",
    "    for dx, dy in MOVES:\n",
    "        nx, ny = x + dx, y + dy\n",
    "        if (nx, ny) not in visited:\n",
    "            results.extend(_dfs(path + [(nx, ny)], visited | {(nx, ny)}, n_steps))\n",
    "    return results\n",
    "\n",
    "def enumerate_saws_all(n_steps: int) -> List[List[Coord]]:\n",
    "    \"\"\"Enumerate all SAWs with all four possible first steps.\"\n",
    "    paths = []\n",
    "    for first in MOVES:\n",
    "        start = [(0,0), (first[0], first[1])]\n",
    "        paths.extend(_dfs(start, set(start), n_steps))\n",
    "    return paths\n",
    "\n",
    "# For 6 residues, we have 5 steps\n",
    "N_STEPS = 5\n",
    "folds = enumerate_saws_all(N_STEPS)\n",
    "print(\"Total folds (should be 284):\", len(folds))"
   ]
  },
  {
   "cell_type": "markdown",
   "id": "30de7186",
   "metadata": {},
   "source": [
    "## Energy Function (H–H Contacts)"
   ]
  },
  {
   "cell_type": "code",
   "execution_count": null,
   "id": "4d86c16f",
   "metadata": {},
   "outputs": [],
   "source": [
    "def manhattan(a: Coord, b: Coord) -> int:\n",
    "    return abs(a[0]-b[0]) + abs(a[1]-b[1])\n",
    "\n",
    "def score_energy(seq, coords) -> int:\n",
    "    n = len(coords)\n",
    "    e = 0\n",
    "    for i in range(n):\n",
    "        for j in range(i+1, n):\n",
    "            if abs(i - j) > 1 and seq[i] == 'H' and seq[j] == 'H':\n",
    "                if manhattan(coords[i], coords[j]) == 1:\n",
    "                    e -= 1\n",
    "    return e\n",
    "\n",
    "energies = [score_energy(SEQ, c) for c in folds]\n",
    "dist = Counter(energies)\n",
    "print(\"Energy distribution:\", dict(sorted(dist.items())))\n",
    "print(\"Best (min) energy:\", min(energies))"
   ]
  },
  {
   "cell_type": "markdown",
   "id": "a93121f1",
   "metadata": {},
   "source": [
    "## Visualization"
   ]
  },
  {
   "cell_type": "code",
   "execution_count": null,
   "id": "f34430c8",
   "metadata": {},
   "outputs": [],
   "source": [
    "def draw_fold(coords, seq, title=None, save_path=None):\n",
    "    xs = [c[0] for c in coords]\n",
    "    ys = [c[1] for c in coords]\n",
    "\n",
    "    fig = plt.figure()\n",
    "    plt.plot(xs, ys, marker='o', linestyle='-')  # defaults; do not set colors\n",
    "    # Different markers for H/P (no colors specified)\n",
    "    for (x, y), t in zip(coords, seq):\n",
    "        if t == 'H':\n",
    "            plt.scatter([x], [y], marker='o')\n",
    "        else:\n",
    "            plt.scatter([x], [y], marker='s')\n",
    "\n",
    "    # Grid and formatting\n",
    "    plt.grid(True, which=\"both\", linestyle='--', linewidth=0.5)\n",
    "    plt.gca().set_aspect('equal', 'box')\n",
    "    if title:\n",
    "        plt.title(title)\n",
    "    plt.xlabel(\"x\")\n",
    "    plt.ylabel(\"y\")\n",
    "    plt.tight_layout()\n",
    "    if save_path:\n",
    "        plt.savefig(save_path, bbox_inches='tight')\n",
    "    plt.show()\n",
    "\n",
    "def plot_energy_hist(energies, save_path=None):\n",
    "    fig = plt.figure()\n",
    "    plt.hist(energies, bins=range(min(energies), max(energies)+2))\n",
    "    plt.title(\"Energy Distribution\")\n",
    "    plt.xlabel(\"Energy\")\n",
    "    plt.ylabel(\"Count\")\n",
    "    plt.tight_layout()\n",
    "    if save_path:\n",
    "        plt.savefig(save_path, bbox_inches='tight')\n",
    "    plt.show()"
   ]
  },
  {
   "cell_type": "code",
   "execution_count": null,
   "id": "c7822093",
   "metadata": {},
   "outputs": [],
   "source": [
    "# Rank by energy (ascending)\n",
    "ranked = sorted(zip(energies, folds), key=lambda x: x[0])\n",
    "best_e = ranked[0][0]\n",
    "print(\"Best energy:\", best_e)\n",
    "\n",
    "# Plot top-k folds (default k=5, including ties capped at k)\n",
    "k = 5\n",
    "top_k = ranked[:k]\n",
    "\n",
    "paths = []\n",
    "for idx, (e, coords) in enumerate(top_k, start=1):\n",
    "    sp = os.path.join(FIG_DIR, f\"fold_top_{idx}_E{e}.png\")\n",
    "    draw_fold(coords, SEQ, title=f\"Top {idx} (E={e})\", save_path=sp)\n",
    "    paths.append(sp)\n",
    "\n",
    "# Energy distribution\n",
    "hist_path = os.path.join(FIG_DIR, \"energy_hist.png\")\n",
    "plot_energy_hist(energies, save_path=hist_path)\n",
    "paths.append(hist_path)\n",
    "\n",
    "print(\"Saved figures:\")\n",
    "for p in paths:\n",
    "    print(\" -\", p)"
   ]
  },
  {
   "cell_type": "markdown",
   "id": "2ec2d235",
   "metadata": {},
   "source": [
    "### Optional: Contact Map of Best Fold"
   ]
  },
  {
   "cell_type": "code",
   "execution_count": null,
   "id": "32bd6a4c",
   "metadata": {},
   "outputs": [],
   "source": [
    "def contact_map(seq, coords):\n",
    "    n = len(coords)\n",
    "    M = np.zeros((n, n), dtype=int)\n",
    "    for i in range(n):\n",
    "        for j in range(n):\n",
    "            if abs(i - j) > 1 and seq[i]=='H' and seq[j]=='H' and manhattan(coords[i], coords[j]) == 1:\n",
    "                M[i, j] = 1\n",
    "    return M\n",
    "\n",
    "def plot_contact_map(M, save_path=None):\n",
    "    fig = plt.figure()\n",
    "    plt.imshow(M, interpolation='nearest')\n",
    "    plt.title(\"H–H Contact Map (non-consecutive)\")\n",
    "    plt.xlabel(\"Residue index\")\n",
    "    plt.ylabel(\"Residue index\")\n",
    "    plt.tight_layout()\n",
    "    if save_path:\n",
    "        plt.savefig(save_path, bbox_inches='tight')\n",
    "    plt.show()\n",
    "\n",
    "best_coords = ranked[0][1]\n",
    "M = contact_map(SEQ, best_coords)\n",
    "cm_path = os.path.join(FIG_DIR, \"contact_map_best.png\")\n",
    "plot_contact_map(M, save_path=cm_path)\n",
    "print(\"Saved:\", cm_path)"
   ]
  }
 ],
 "metadata": {},
 "nbformat": 4,
 "nbformat_minor": 5
}
