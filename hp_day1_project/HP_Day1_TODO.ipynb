{
 "cells": [
  {
   "cell_type": "markdown",
   "id": "a1723a53",
   "metadata": {},
   "source": [
    "# Day 1 — HP Model (6-Residue Lattice Toy) — **TODO Version**\n",
    "\n",
    "This is the *guided* notebook. You'll implement key pieces marked with **TODO** cells and run lightweight tests."
   ]
  },
  {
   "cell_type": "markdown",
   "id": "5b8a3861",
   "metadata": {},
   "source": [
    "## Setup"
   ]
  },
  {
   "cell_type": "code",
   "execution_count": null,
   "id": "cf55b9ae",
   "metadata": {},
   "outputs": [],
   "source": [
    "# Imports & basic config\n",
    "import os\n",
    "from collections import Counter\n",
    "from typing import List, Tuple, Set\n",
    "import numpy as np\n",
    "import matplotlib.pyplot as plt\n",
    "\n",
    "plt.rcParams.update({\"figure.dpi\": 120})\n",
    "FIG_DIR = \"figures\"\n",
    "os.makedirs(FIG_DIR, exist_ok=True)\n",
    "\n",
    "# Default sequence (editable)\n",
    "SEQ = ['H','P','H','H','P','H']\n",
    "\n",
    "# Lattice moves (R, L, U, D)\n",
    "MOVES = [(1,0), (-1,0), (0,1), (0,-1)]\n",
    "Coord = Tuple[int, int]\n",
    "\n",
    "print(\"Sequence:\", ''.join(SEQ))"
   ]
  },
  {
   "cell_type": "markdown",
   "id": "7d7dc3a2",
   "metadata": {},
   "source": [
    "## TODO 1 — Enumerate All Self-Avoiding Walks (SAWs)\n",
    "\n",
    "Implement `enumerate_saws(n_steps)` starting at the origin `(0,0)` and allowing **any** first step.  \n",
    "- A valid fold is a path with **no repeated coordinates** (self-avoiding).  \n",
    "- For Day 1, `n_steps = 5` (6 residues).  \n",
    "- Expected number of folds for `n_steps=5` is **284**."
   ]
  },
  {
   "cell_type": "code",
   "execution_count": null,
   "id": "05383c7c",
   "metadata": {},
   "outputs": [],
   "source": [
    "def enumerate_saws(n_steps: int) -> List[List[Coord]]:\n",
    "    \"\"\"Return all SAWs of exactly n_steps starting at (0,0). \n",
    "    Tip: Use DFS + backtracking and a `visited` set.\n",
    "    \"\"\"\n",
    "    # TODO: Your code here\n",
    "    paths = []\n",
    "    start = (0,0)\n",
    "    # --- your implementation ---\n",
    "    return paths"
   ]
  },
  {
   "cell_type": "code",
   "execution_count": null,
   "id": "d63f0e0a",
   "metadata": {},
   "outputs": [],
   "source": [
    "# Test for TODO 1\n",
    "folds = enumerate_saws(5)\n",
    "print(\"Count:\", len(folds))\n",
    "assert isinstance(folds, list), \"enumerate_saws should return a list\"\n",
    "assert len(folds) == 284, \"Expected 284 SAWs for 5 steps\"\n",
    "print(\"✅ Passed: enumerate_saws\")"
   ]
  },
  {
   "cell_type": "markdown",
   "id": "b228cee1",
   "metadata": {},
   "source": [
    "## TODO 2 — Enumerate with Fixed First Step (+x)\n",
    "\n",
    "Implement `enumerate_saws_fixed_first(n_steps)` where the **first step is fixed to +x**.  \n",
    "- Expected count for `n_steps=5` is **71** (a symmetry-reduced subset)."
   ]
  },
  {
   "cell_type": "code",
   "execution_count": null,
   "id": "8522e71d",
   "metadata": {},
   "outputs": [],
   "source": [
    "def enumerate_saws_fixed_first(n_steps: int) -> List[List[Coord]]:\n",
    "    \"\"\"Return SAWs with the first step fixed to +x.\n",
    "    Start at (0,0), first move must be (1,0).\n",
    "    \"\"\"\n",
    "    # TODO: Your code here\n",
    "    paths = []\n",
    "    # --- your implementation ---\n",
    "    return paths"
   ]
  },
  {
   "cell_type": "code",
   "execution_count": null,
   "id": "99ee71fa",
   "metadata": {},
   "outputs": [],
   "source": [
    "# Test for TODO 2\n",
    "folds_fx = enumerate_saws_fixed_first(5)\n",
    "print(\"Fixed-first count:\", len(folds_fx))\n",
    "assert len(folds_fx) == 71, \"Expected 71 SAWs for first step fixed +x (5 steps)\"\n",
    "print(\"✅ Passed: enumerate_saws_fixed_first\")"
   ]
  },
  {
   "cell_type": "markdown",
   "id": "6f2bd59e",
   "metadata": {},
   "source": [
    "## TODO 3 — Energy Function (H–H Contacts)\n",
    "\n",
    "Implement `score_energy(seq, coords)` where each **non-consecutive** H–H neighbor (Manhattan distance 1) contributes **-1**."
   ]
  },
  {
   "cell_type": "code",
   "execution_count": null,
   "id": "0236306f",
   "metadata": {},
   "outputs": [],
   "source": [
    "def manhattan(a: Coord, b: Coord) -> int:\n",
    "    return abs(a[0]-b[0]) + abs(a[1]-b[1])\n",
    "\n",
    "def score_energy(seq, coords) -> int:\n",
    "    \"\"\"Return energy as -1 per non-consecutive H–H contact at Manhattan distance 1.\"\"\"\n",
    "    # TODO: Your code here\n",
    "    e = 0\n",
    "    # --- your implementation ---\n",
    "    return e"
   ]
  },
  {
   "cell_type": "code",
   "execution_count": null,
   "id": "cab812d6",
   "metadata": {},
   "outputs": [],
   "source": [
    "# Micro-test with a hand-crafted fold that has exactly one non-consecutive H–H contact\n",
    "# Path: (0,0)->(1,0)->(2,0)->(2,1)->(1,1)->(0,1)\n",
    "coords_one_contact = [(0,0),(1,0),(2,0),(2,1),(1,1),(0,1)]\n",
    "# H indices: 0,2,3,5 ; contact: (0,5) are neighbors => energy -1\n",
    "e_test = score_energy(SEQ, coords_one_contact)\n",
    "print(\"Energy (one-contact test):\", e_test)\n",
    "assert e_test == -1, \"Expected energy -1 for the one-contact test case\"\n",
    "print(\"✅ Passed: score_energy micro-test\")"
   ]
  },
  {
   "cell_type": "code",
   "execution_count": null,
   "id": "1e367a72",
   "metadata": {},
   "outputs": [],
   "source": [
    "# Stronger test: compute min energy across all 284 folds (should be -2 for the default SEQ)\n",
    "if 'folds' not in globals() or len(folds) != 284:\n",
    "    folds = enumerate_saws(5)\n",
    "\n",
    "energies_all = [score_energy(SEQ, c) for c in folds]\n",
    "print(\"Min energy over all folds:\", min(energies_all))\n",
    "assert min(energies_all) == -2, \"Expected best energy -2 for the default sequence\"\n",
    "print(\"✅ Passed: min-energy test (-2)\")"
   ]
  },
  {
   "cell_type": "markdown",
   "id": "2146291a",
   "metadata": {},
   "source": [
    "## TODO 4 — Visuals\n",
    "\n",
    "Implement lightweight plotting helpers. Do **not** set styles or colors; use matplotlib defaults."
   ]
  },
  {
   "cell_type": "code",
   "execution_count": null,
   "id": "f37e5fe7",
   "metadata": {},
   "outputs": [],
   "source": [
    "def draw_fold(coords, seq, title=None, save_path=None):\n",
    "    # TODO: Your code here\n",
    "    import matplotlib.pyplot as plt\n",
    "    # --- your implementation ---\n",
    "    if save_path:\n",
    "        plt.savefig(save_path, bbox_inches='tight')\n",
    "    plt.show()\n",
    "\n",
    "def plot_energy_hist(energies, save_path=None):\n",
    "    # TODO: Your code here\n",
    "    import matplotlib.pyplot as plt\n",
    "    # --- your implementation ---\n",
    "    if save_path:\n",
    "        plt.savefig(save_path, bbox_inches='tight')\n",
    "    plt.show()"
   ]
  },
  {
   "cell_type": "code",
   "execution_count": null,
   "id": "8fd269d8",
   "metadata": {},
   "outputs": [],
   "source": [
    "# Smoke test for plotting helpers\n",
    "# Rank by energy (ascending) and draw top 3\n",
    "ranked = sorted(zip(energies_all, folds), key=lambda x: x[0])\n",
    "top3 = ranked[:3]\n",
    "saved = []\n",
    "for i, (e, coords) in enumerate(top3, 1):\n",
    "    p = os.path.join(FIG_DIR, f\"fold_top_{i}_E{e}.png\")\n",
    "    draw_fold(coords, SEQ, title=f\"Top {i} (E={e})\", save_path=p)\n",
    "    saved.append(p)\n",
    "\n",
    "# Histogram\n",
    "hist_p = os.path.join(FIG_DIR, \"energy_hist.png\")\n",
    "plot_energy_hist(energies_all, save_path=hist_p)\n",
    "saved.append(hist_p)\n",
    "\n",
    "print(\"Saved figures:\")\n",
    "for p in saved:\n",
    "    print(\" -\", p)"
   ]
  }
 ],
 "metadata": {},
 "nbformat": 4,
 "nbformat_minor": 5
}
